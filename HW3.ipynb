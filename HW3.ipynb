{
 "cells": [
  {
   "cell_type": "code",
   "execution_count": 1,
   "metadata": {},
   "outputs": [],
   "source": [
    "sentence = \"Count the number of words in this sentence\"\n",
    "\n",
    "def count_words(sentence):\n",
    "\n",
    "    \"\"\" A function that counts the number of words in a given sentence. \n",
    "    Input:sentence     \n",
    "    Input data type: str \n",
    "    Return value: count\n",
    "    Return data type: int\"\"\"\n",
    "    if type(sentence)!=str:\n",
    "        raise StandardError('The input should be string')\n",
    "    lis = sentence.split() # the list of words\n",
    "    count = len(lis)\n",
    "    return count\n",
    "\n"
   ]
  },
  {
   "cell_type": "code",
   "execution_count": 2,
   "metadata": {},
   "outputs": [],
   "source": [
    "sentence = \"Count the number of words in this sentence\"\n"
   ]
  },
  {
   "cell_type": "code",
   "execution_count": 3,
   "metadata": {},
   "outputs": [
    {
     "name": "stdout",
     "output_type": "stream",
     "text": [
      "8\n"
     ]
    }
   ],
   "source": [
    "try:\n",
    "    print(count_words(sentence))\n",
    "except StandardError as error:\n",
    "    print(error)"
   ]
  }
 ],
 "metadata": {
  "kernelspec": {
   "display_name": "Python 3",
   "language": "python",
   "name": "python3"
  },
  "language_info": {
   "codemirror_mode": {
    "name": "ipython",
    "version": 3
   },
   "file_extension": ".py",
   "mimetype": "text/x-python",
   "name": "python",
   "nbconvert_exporter": "python",
   "pygments_lexer": "ipython3",
   "version": "3.6.8"
  }
 },
 "nbformat": 4,
 "nbformat_minor": 2
}
